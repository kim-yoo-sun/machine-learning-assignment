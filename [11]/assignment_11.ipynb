{
 "cells": [
  {
   "cell_type": "markdown",
   "metadata": {},
   "source": [
    "# K-means clustering"
   ]
  },
  {
   "cell_type": "markdown",
   "metadata": {},
   "source": [
    "## import library"
   ]
  },
  {
   "cell_type": "code",
   "execution_count": 1,
   "metadata": {},
   "outputs": [],
   "source": [
    "import numpy as np\n",
    "import matplotlib.pyplot as plt\n",
    "import matplotlib.colors as colors\n",
    "from matplotlib import cm"
   ]
  },
  {
   "cell_type": "markdown",
   "metadata": {},
   "source": [
    "## load data"
   ]
  },
  {
   "cell_type": "code",
   "execution_count": 2,
   "metadata": {},
   "outputs": [
    {
     "name": "stdout",
     "output_type": "stream",
     "text": [
      "number of data : 1000\n",
      "number of feature : 2\n"
     ]
    }
   ],
   "source": [
    "fname_data = 'assignment_11_data.csv'\n",
    "\n",
    "feature = np.genfromtxt(fname_data, delimiter=',')\n",
    "\n",
    "x = feature[:,0]\n",
    "y = feature[:,1]\n",
    "\n",
    "number_data     = np.size(feature, 0)\n",
    "number_feature  = np.size(feature, 1)\n",
    "\n",
    "print('number of data : {}'.format(number_data))\n",
    "print('number of feature : {}'.format(number_feature))"
   ]
  },
  {
   "cell_type": "markdown",
   "metadata": {},
   "source": [
    "## plot the input data"
   ]
  },
  {
   "cell_type": "code",
   "execution_count": null,
   "metadata": {},
   "outputs": [],
   "source": [
    "plt.figure(figsize=(8,8))   \n",
    "plt.title('input data')\n",
    "\n",
    "plt.scatter(x, y, color='blue')\n",
    "\n",
    "plt.tight_layout()\n",
    "plt.show()"
   ]
  },
  {
   "cell_type": "markdown",
   "metadata": {},
   "source": [
    "## compute distance\n",
    "- feature : $n \\times m$, center : $1 \\times m$, distance : $n \\times 1$\n",
    "- $n$ : number of data, $m$ : number of features"
   ]
  },
  {
   "cell_type": "code",
   "execution_count": null,
   "metadata": {},
   "outputs": [],
   "source": [
    "def compute_distance(feature, center):\n",
    "\n",
    "    # ++++++++++++++++++++++++++++++++++++++++++++++++++\n",
    "    # complete the blanks\n",
    "    #feature (1000,2) center (2,) -> distance (1000,)\n",
    "    n = 1000\n",
    "    distance = np.zeros(1000)\n",
    "    \n",
    "    for i in range(n):\n",
    "        distance[i] = ((feature[i] - center) * (feature[i] - center)).sum()\n",
    "    #\n",
    "    # ++++++++++++++++++++++++++++++++++++++++++++++++++\n",
    "\n",
    "    return distance"
   ]
  },
  {
   "cell_type": "markdown",
   "metadata": {},
   "source": [
    "## compute centroid\n",
    "- feature : $n \\times m$, label_feature : $n \\times 1$, value_label : $1 \\times 1$, centroid : $1 \\times m$\n",
    "- $n$ : number of data, $m$ : number of features"
   ]
  },
  {
   "cell_type": "code",
   "execution_count": null,
   "metadata": {},
   "outputs": [],
   "source": [
    "def compute_centroid(feature, label_feature, label, before_centroid):\n",
    "\n",
    "    # ++++++++++++++++++++++++++++++++++++++++++++++++++\n",
    "    # complete the blanks\n",
    "    # feature (1000,2) label_feature (1000,) label scalar(int) before_centroid (label,2) -> centroid (label,2)\n",
    "    centroid = np.zeros((label,2))\n",
    "    cnt = np.zeros(label)\n",
    "    \n",
    "    \n",
    "    for k in range(label):\n",
    "        array_mask = (label_feature == k)\n",
    "        for i, j in enumerate(array_mask):\n",
    "            if j == True:\n",
    "                centroid[k] = centroid[k] + feature[i]\n",
    "                cnt[k] = cnt[k] + 1\n",
    "                \n",
    "        if cnt[k] !=0:\n",
    "            centroid[k] = centroid[k] / cnt[k]\n",
    "        else :\n",
    "            centroid[k] = before_centroid[k]\n",
    "\n",
    "    #\n",
    "    # ++++++++++++++++++++++++++++++++++++++++++++++++++\n",
    "\n",
    "    return centroid"
   ]
  },
  {
   "cell_type": "markdown",
   "metadata": {},
   "source": [
    "## compute label\n",
    "- distance : $n \\times k$, label_feature : $n \\times 1$\n",
    "- $n$ : number of data, $k$ : number of clusters"
   ]
  },
  {
   "cell_type": "code",
   "execution_count": null,
   "metadata": {},
   "outputs": [],
   "source": [
    "def compute_label(distance):\n",
    "\n",
    "    # ++++++++++++++++++++++++++++++++++++++++++++++++++\n",
    "    # complete the blanks\n",
    "    # distance (1000,cluster) -> label_feature (1000,)\n",
    "    label_feature = np.zeros(1000)\n",
    "    \n",
    "    for i in range(1000):\n",
    "        label_feature[i] = np.argmin(distance[i])\n",
    "    #\n",
    "    # ++++++++++++++++++++++++++++++++++++++++++++++++++\n",
    "    \n",
    "    return label_feature\n"
   ]
  },
  {
   "cell_type": "code",
   "execution_count": null,
   "metadata": {},
   "outputs": [],
   "source": [
    "def compute_loss(center,label_feature,label):\n",
    "\n",
    "    # ++++++++++++++++++++++++++++++++++++++++++++++++++\n",
    "    # complete the blanks\n",
    "    # center (cluster,2) label_feature (1000,) label scalar(int) -> loss scalar(int)\n",
    "    loss = 0\n",
    "#    cnt = 0\n",
    "#    for i in range(label):\n",
    "#        array_mask = (label_feature == i)\n",
    "#        for i1, j1 in enumerate(array_mask):\n",
    "#            if j1 == True:\n",
    "#                loss = loss + (feature[i1]-^^)\n",
    "#\n",
    "#            cnt = cnt + 1\n",
    "#\n",
    "#    print(cnt)\n",
    "    for i in range(1000):\n",
    "        loss = loss + ((feature[i]-center[int(label_feature[i])]) * (feature[i]-center[int(label_feature[i])])).sum()\n",
    "    \n",
    "    \n",
    "    loss = loss / 1000\n",
    "    #((feature[i] - center) * (feature[i] - center)).sum()\n",
    "    \n",
    "    # ++++++++++++++++++++++++++++++++++++++++++++++++++\n",
    "    \n",
    "    return loss"
   ]
  },
  {
   "cell_type": "code",
   "execution_count": null,
   "metadata": {},
   "outputs": [],
   "source": [
    "# seed_02,seed_04,seed_08,seed_16 = 6, 0, 69, 52"
   ]
  },
  {
   "cell_type": "markdown",
   "metadata": {},
   "source": [
    "## the number of clusters $K = 2$"
   ]
  },
  {
   "cell_type": "code",
   "execution_count": null,
   "metadata": {},
   "outputs": [],
   "source": [
    "number_cluster          = 2\n",
    "number_iteration        = 300     # you can modify this value\n",
    "loss_iteration_02       = np.zeros(number_iteration)\n",
    "centroid_iteration_02   = np.zeros((number_iteration, number_cluster, number_feature))\n",
    "np.random.seed(6)\n",
    "label_feature_02        = np.random.randint(0, number_cluster, size=(number_data))"
   ]
  },
  {
   "cell_type": "code",
   "execution_count": null,
   "metadata": {
    "tags": []
   },
   "outputs": [],
   "source": [
    "# ++++++++++++++++++++++++++++++++++++++++++++++++++\n",
    "# complete the blanks\n",
    "#\n",
    "label = number_cluster\n",
    "label_feature = label_feature_02\n",
    "centroid = np.zeros((label,2))\n",
    "before_centroid = np.zeros((label,2))\n",
    "\n",
    "for i in range(number_iteration):\n",
    "    if i == 0:\n",
    "        centroid = compute_centroid(feature, label_feature, label, before_centroid)\n",
    "    else :\n",
    "        before_centroid = centroid\n",
    "        centroid = compute_centroid(feature, label_feature, label, before_centroid)\n",
    "    \n",
    "    centroid_iteration_02[i] = centroid\n",
    "    distance_save = np.zeros((label,1000))\n",
    "    for k in range(label):\n",
    "        # distance (1000, cluster)\n",
    "        distance_save[k] = compute_distance(feature, centroid[k])\n",
    "    distance_save = distance_save.T\n",
    "    label_feature = compute_label(distance_save)\n",
    "    loss_iteration_02[i] = compute_loss(centroid,label_feature,label)\n",
    "\n",
    "label_feature_02 =label_feature\n",
    "#\n",
    "# ++++++++++++++++++++++++++++++++++++++++++++++++++"
   ]
  },
  {
   "cell_type": "markdown",
   "metadata": {},
   "source": [
    "## the number of clusters $K = 4$"
   ]
  },
  {
   "cell_type": "code",
   "execution_count": null,
   "metadata": {},
   "outputs": [],
   "source": [
    "number_cluster          = 4\n",
    "number_iteration        = 300     # you can modify this value\n",
    "loss_iteration_04       = np.zeros(number_iteration)\n",
    "centroid_iteration_04   = np.zeros((number_iteration, number_cluster, number_feature))\n",
    "np.random.seed(0)\n",
    "label_feature_04        = np.random.randint(0, number_cluster, size=(number_data))"
   ]
  },
  {
   "cell_type": "code",
   "execution_count": null,
   "metadata": {},
   "outputs": [],
   "source": [
    "# ++++++++++++++++++++++++++++++++++++++++++++++++++\n",
    "# complete the blanks\n",
    "#\n",
    "label = number_cluster\n",
    "label_feature = label_feature_04\n",
    "centroid = np.zeros((label,2))\n",
    "before_centroid = np.zeros((label,2))\n",
    "\n",
    "for i in range(number_iteration):\n",
    "    if i == 0:\n",
    "        centroid = compute_centroid(feature, label_feature, label, before_centroid)\n",
    "    else :\n",
    "        before_centroid = centroid\n",
    "        centroid = compute_centroid(feature, label_feature, label, before_centroid)\n",
    "    \n",
    "    centroid_iteration_04[i] = centroid\n",
    "    distance_save = np.zeros((label,1000))\n",
    "    for k in range(label):\n",
    "        # distance (1000, cluster)\n",
    "        distance_save[k] = compute_distance(feature, centroid[k])\n",
    "    distance_save = distance_save.T\n",
    "    label_feature = compute_label(distance_save)\n",
    "    loss_iteration_04[i] = compute_loss(centroid,label_feature,label)\n",
    "\n",
    "label_feature_04 =label_feature\n",
    "#\n",
    "# ++++++++++++++++++++++++++++++++++++++++++++++++++"
   ]
  },
  {
   "cell_type": "markdown",
   "metadata": {},
   "source": [
    "## the number of clusters $K = 8$"
   ]
  },
  {
   "cell_type": "code",
   "execution_count": null,
   "metadata": {},
   "outputs": [],
   "source": [
    "number_cluster          = 8\n",
    "number_iteration        = 300     # you can modify this value\n",
    "loss_iteration_08       = np.zeros(number_iteration)\n",
    "centroid_iteration_08   = np.zeros((number_iteration, number_cluster, number_feature))\n",
    "np.random.seed(69)\n",
    "label_feature_08        = np.random.randint(0, number_cluster, size=(number_data))"
   ]
  },
  {
   "cell_type": "code",
   "execution_count": null,
   "metadata": {},
   "outputs": [],
   "source": [
    "# ++++++++++++++++++++++++++++++++++++++++++++++++++\n",
    "# complete the blanks\n",
    "#\n",
    "label = number_cluster\n",
    "label_feature = label_feature_08\n",
    "centroid = np.zeros((label,2))\n",
    "before_centroid = np.zeros((label,2))\n",
    "\n",
    "for i in range(number_iteration):\n",
    "    if i == 0:\n",
    "        centroid = compute_centroid(feature, label_feature, label, before_centroid)\n",
    "    else :\n",
    "        before_centroid = centroid\n",
    "        centroid = compute_centroid(feature, label_feature, label, before_centroid)\n",
    "    \n",
    "    centroid_iteration_08[i] = centroid\n",
    "    distance_save = np.zeros((label,1000))\n",
    "    for k in range(label):\n",
    "        # distance (1000, cluster)\n",
    "        distance_save[k] = compute_distance(feature, centroid[k])\n",
    "    distance_save = distance_save.T\n",
    "    label_feature = compute_label(distance_save)\n",
    "    loss_iteration_08[i] = compute_loss(centroid,label_feature,label)\n",
    "\n",
    "label_feature_08 =label_feature\n",
    "#\n",
    "# ++++++++++++++++++++++++++++++++++++++++++++++++++"
   ]
  },
  {
   "cell_type": "markdown",
   "metadata": {},
   "source": [
    "## the number of clusters $K = 16$"
   ]
  },
  {
   "cell_type": "code",
   "execution_count": null,
   "metadata": {},
   "outputs": [],
   "source": [
    "number_cluster          = 16\n",
    "number_iteration        = 300     # you can modify this value\n",
    "loss_iteration_16       = np.zeros(number_iteration)\n",
    "centroid_iteration_16   = np.zeros((number_iteration, number_cluster, number_feature))\n",
    "np.random.seed(52)\n",
    "label_feature_16        = np.random.randint(0, number_cluster, size=(number_data))"
   ]
  },
  {
   "cell_type": "code",
   "execution_count": null,
   "metadata": {},
   "outputs": [],
   "source": [
    "# ++++++++++++++++++++++++++++++++++++++++++++++++++\n",
    "# complete the blanks\n",
    "#\n",
    "label = number_cluster\n",
    "label_feature = label_feature_16\n",
    "centroid = np.zeros((label,2))\n",
    "before_centroid = np.zeros((label,2))\n",
    "\n",
    "for i in range(number_iteration):\n",
    "    if i == 0:\n",
    "        centroid = compute_centroid(feature, label_feature, label, before_centroid)\n",
    "    else :\n",
    "        before_centroid = centroid\n",
    "        centroid = compute_centroid(feature, label_feature, label, before_centroid)\n",
    "    \n",
    "    centroid_iteration_16[i] = centroid\n",
    "    distance_save = np.zeros((label,1000))\n",
    "    for k in range(label):\n",
    "        # distance (1000, cluster)\n",
    "        distance_save[k] = compute_distance(feature, centroid[k])\n",
    "    distance_save = distance_save.T\n",
    "    label_feature = compute_label(distance_save)\n",
    "    loss_iteration_16[i] = compute_loss(centroid,label_feature,label)\n",
    "\n",
    "label_feature_16 =label_feature\n",
    "#\n",
    "# ++++++++++++++++++++++++++++++++++++++++++++++++++"
   ]
  },
  {
   "cell_type": "markdown",
   "metadata": {},
   "source": [
    "---"
   ]
  },
  {
   "cell_type": "markdown",
   "metadata": {},
   "source": [
    "---"
   ]
  },
  {
   "cell_type": "markdown",
   "metadata": {},
   "source": [
    "## functions for presenting the results"
   ]
  },
  {
   "cell_type": "markdown",
   "metadata": {},
   "source": [
    "---"
   ]
  },
  {
   "cell_type": "markdown",
   "metadata": {},
   "source": [
    "---"
   ]
  },
  {
   "cell_type": "code",
   "execution_count": null,
   "metadata": {},
   "outputs": [],
   "source": [
    "def function_result_01():\n",
    "\n",
    "    print(\"final loss (K=2) = {:13.10f}\".format(loss_iteration_02[-1]))\n",
    "    "
   ]
  },
  {
   "cell_type": "code",
   "execution_count": null,
   "metadata": {},
   "outputs": [],
   "source": [
    "def function_result_02():\n",
    "\n",
    "    print(\"final loss (K=4) = {:13.10f}\".format(loss_iteration_04[-1]))\n",
    "    "
   ]
  },
  {
   "cell_type": "code",
   "execution_count": null,
   "metadata": {},
   "outputs": [],
   "source": [
    "def function_result_03():\n",
    "\n",
    "    print(\"final loss (K=8) = {:13.10f}\".format(loss_iteration_08[-1]))\n",
    "    "
   ]
  },
  {
   "cell_type": "code",
   "execution_count": null,
   "metadata": {},
   "outputs": [],
   "source": [
    "def function_result_04():\n",
    "\n",
    "    print(\"final loss (K=16) = {:13.10f}\".format(loss_iteration_16[-1]))\n",
    "    "
   ]
  },
  {
   "cell_type": "code",
   "execution_count": null,
   "metadata": {},
   "outputs": [],
   "source": [
    "def function_result_05():\n",
    "    \n",
    "    plt.figure(figsize=(8,6)) \n",
    "    plt.title('loss (K=2)')\n",
    "\n",
    "    plt.plot(loss_iteration_02, '-', color='red')\n",
    "    plt.xlabel('iteration')\n",
    "    plt.ylabel('loss')\n",
    "    \n",
    "    plt.tight_layout()\n",
    "    plt.show()"
   ]
  },
  {
   "cell_type": "code",
   "execution_count": null,
   "metadata": {},
   "outputs": [],
   "source": [
    "def function_result_06():\n",
    "    \n",
    "    plt.figure(figsize=(8,6)) \n",
    "    plt.title('loss (K=4)')\n",
    "\n",
    "    plt.plot(loss_iteration_04, '-', color='red')\n",
    "    plt.xlabel('iteration')\n",
    "    plt.ylabel('loss')\n",
    "    \n",
    "    plt.tight_layout()\n",
    "    plt.show()"
   ]
  },
  {
   "cell_type": "code",
   "execution_count": null,
   "metadata": {},
   "outputs": [],
   "source": [
    "def function_result_07():\n",
    "    \n",
    "    plt.figure(figsize=(8,6))\n",
    "    plt.title('loss (K=8)')\n",
    "\n",
    "    plt.plot(loss_iteration_08, '-', color='red')\n",
    "    plt.xlabel('iteration')\n",
    "    plt.ylabel('loss')\n",
    "    \n",
    "    plt.tight_layout()\n",
    "    plt.show()"
   ]
  },
  {
   "cell_type": "code",
   "execution_count": null,
   "metadata": {},
   "outputs": [],
   "source": [
    "def function_result_08():\n",
    "    \n",
    "    plt.figure(figsize=(8,6))\n",
    "    plt.title('loss (K=16)')\n",
    "\n",
    "    plt.plot(loss_iteration_16, '-', color='red')\n",
    "    plt.xlabel('iteration')\n",
    "    plt.ylabel('loss')\n",
    "    \n",
    "    plt.tight_layout()\n",
    "    plt.show()"
   ]
  },
  {
   "cell_type": "code",
   "execution_count": null,
   "metadata": {},
   "outputs": [],
   "source": [
    "def function_result_09():\n",
    "\n",
    "    plt.figure(figsize=(8,8))\n",
    "    plt.title('centroid (K=2)')\n",
    "\n",
    "    # ++++++++++++++++++++++++++++++++++++++++++++++++++\n",
    "    # complete the blanks\n",
    "    #\n",
    "    number_cluster          = 2\n",
    "    color_list = ['black', 'gray', 'red', 'orange', 'yellow', 'green', 'blue', 'indigo', 'purple', 'pink', 'brown', 'olive', 'cyan', 'khaki', 'darkgreen', 'gold']\n",
    "    label_ = list()\n",
    "        \n",
    "    for i in range(centroid_iteration_02[0,:,0].shape[0]): # cluster 구분하기.\n",
    "        label_ = 'cluster = {:02d}'.format(i+1)\n",
    "        plt.plot(centroid_iteration_02[:,i,0].tolist(),centroid_iteration_02[:,i,1].tolist(), color=color_list[i], label=label_)\n",
    "        if i != (centroid_iteration_02[0,:,0].shape[0] - 1):\n",
    "            plt.plot(centroid_iteration_02[0,i,0].tolist(),centroid_iteration_02[0,i,1].tolist(), 'o', color='blue')\n",
    "            plt.plot(centroid_iteration_02[299,i,0].tolist(),centroid_iteration_02[299,i,1].tolist(), 's', color='red')\n",
    "        else :\n",
    "            plt.plot(centroid_iteration_02[0,i,0].tolist(),centroid_iteration_02[0,i,1].tolist(), 'o', color='blue', label='initial')\n",
    "            plt.plot(centroid_iteration_02[299,i,0].tolist(),centroid_iteration_02[299,i,1].tolist(), 's', color='red', label='final')\n",
    "            \n",
    "    plt.legend(loc='upper left')\n",
    "    plt.show()\n",
    "    #\n",
    "    # ++++++++++++++++++++++++++++++++++++++++++++++++++"
   ]
  },
  {
   "cell_type": "code",
   "execution_count": null,
   "metadata": {},
   "outputs": [],
   "source": [
    "def function_result_10():\n",
    "\n",
    "    plt.figure(figsize=(8,8))\n",
    "    plt.title('centroid (K=4)')\n",
    "\n",
    "    # ++++++++++++++++++++++++++++++++++++++++++++++++++\n",
    "    # complete the blanks\n",
    "    #\n",
    "    number_cluster          = 4\n",
    "    color_list = ['black', 'gray', 'red', 'orange', 'yellow', 'green', 'blue', 'indigo', 'purple', 'pink', 'brown', 'olive', 'cyan', 'khaki', 'darkgreen', 'gold']\n",
    "    label_ = list()\n",
    "        \n",
    "    for i in range(centroid_iteration_04[0,:,0].shape[0]): # cluster 구분하기.\n",
    "        label_ = 'cluster = {:02d}'.format(i+1)\n",
    "        plt.plot(centroid_iteration_04[:,i,0].tolist(),centroid_iteration_04[:,i,1].tolist(), color=color_list[i], label=label_)\n",
    "        if i != (centroid_iteration_04[0,:,0].shape[0] - 1):\n",
    "            plt.plot(centroid_iteration_04[0,i,0].tolist(),centroid_iteration_04[0,i,1].tolist(), 'o', color='blue')\n",
    "            plt.plot(centroid_iteration_04[299,i,0].tolist(),centroid_iteration_04[299,i,1].tolist(), 's', color='red')\n",
    "        else :\n",
    "            plt.plot(centroid_iteration_04[0,i,0].tolist(),centroid_iteration_04[0,i,1].tolist(), 'o', color='blue', label='initial')\n",
    "            plt.plot(centroid_iteration_04[299,i,0].tolist(),centroid_iteration_04[299,i,1].tolist(), 's', color='red', label='final')\n",
    "            \n",
    "    plt.legend(loc='upper left')\n",
    "    plt.show()\n",
    "    #\n",
    "    # ++++++++++++++++++++++++++++++++++++++++++++++++++"
   ]
  },
  {
   "cell_type": "code",
   "execution_count": null,
   "metadata": {},
   "outputs": [],
   "source": [
    "def function_result_11():\n",
    "\n",
    "    plt.figure(figsize=(8,8))\n",
    "    plt.title('centroid (K=8)')\n",
    "\n",
    "    # ++++++++++++++++++++++++++++++++++++++++++++++++++\n",
    "    # complete the blanks\n",
    "    #\n",
    "    number_cluster          = 8\n",
    "    color_list = ['black', 'gray', 'red', 'orange', 'yellow', 'green', 'blue', 'indigo', 'purple', 'pink', 'brown', 'olive', 'cyan', 'khaki', 'darkgreen', 'gold']\n",
    "    label_ = list()\n",
    "    \n",
    "    for i in range(centroid_iteration_08[0,:,0].shape[0]): # cluster 구분하기.\n",
    "        label_ = 'cluster = {:02d}'.format(i+1)\n",
    "        plt.plot(centroid_iteration_08[:,i,0].tolist(),centroid_iteration_08[:,i,1].tolist(), color=color_list[i], label=label_)\n",
    "        if i != (centroid_iteration_08[0,:,0].shape[0] - 1):\n",
    "            plt.plot(centroid_iteration_08[0,i,0].tolist(),centroid_iteration_08[0,i,1].tolist(), 'o', color='blue')\n",
    "            plt.plot(centroid_iteration_08[299,i,0].tolist(),centroid_iteration_08[299,i,1].tolist(), 's', color='red')\n",
    "        else :\n",
    "            plt.plot(centroid_iteration_08[0,i,0].tolist(),centroid_iteration_08[0,i,1].tolist(), 'o', color='blue', label='initial')\n",
    "            plt.plot(centroid_iteration_08[299,i,0].tolist(),centroid_iteration_08[299,i,1].tolist(), 's', color='red', label='final')\n",
    "            \n",
    "    plt.legend(loc='upper left')\n",
    "    plt.show()\n",
    "    #\n",
    "    # ++++++++++++++++++++++++++++++++++++++++++++++++++"
   ]
  },
  {
   "cell_type": "code",
   "execution_count": null,
   "metadata": {},
   "outputs": [],
   "source": [
    "def function_result_12():\n",
    "\n",
    "    plt.figure(figsize=(8,8))\n",
    "    plt.title('centroid (K=16)')\n",
    "\n",
    "    # ++++++++++++++++++++++++++++++++++++++++++++++++++\n",
    "    # complete the blanks\n",
    "    #\n",
    "    number_cluster          = 16\n",
    "    color_list = ['black', 'gray', 'red', 'orange', 'yellow', 'green', 'blue', 'indigo', 'purple', 'pink', 'brown', 'olive', 'cyan', 'khaki', 'darkgreen', 'gold']\n",
    "    label_ = list()\n",
    "    \n",
    "    for i in range(centroid_iteration_16[0,:,0].shape[0]): # cluster 구분하기.\n",
    "        label_ = 'cluster = {:02d}'.format(i+1)\n",
    "        plt.plot(centroid_iteration_16[:,i,0].tolist(),centroid_iteration_16[:,i,1].tolist(), color=color_list[i], label=label_)\n",
    "        if i != (centroid_iteration_16[0,:,0].shape[0] - 1):\n",
    "            plt.plot(centroid_iteration_16[0,i,0].tolist(),centroid_iteration_16[0,i,1].tolist(), 'o', color='blue')\n",
    "            plt.plot(centroid_iteration_16[299,i,0].tolist(),centroid_iteration_16[299,i,1].tolist(), 's', color='red')\n",
    "        else :\n",
    "            plt.plot(centroid_iteration_16[0,i,0].tolist(),centroid_iteration_16[0,i,1].tolist(), 'o', color='blue', label='initial')\n",
    "            plt.plot(centroid_iteration_16[299,i,0].tolist(),centroid_iteration_16[299,i,1].tolist(), 's', color='red', label='final')\n",
    "            \n",
    "    plt.legend(loc='upper left')\n",
    "    plt.show()\n",
    "    #\n",
    "    # ++++++++++++++++++++++++++++++++++++++++++++++++++"
   ]
  },
  {
   "cell_type": "code",
   "execution_count": null,
   "metadata": {},
   "outputs": [],
   "source": [
    "def function_result_13():\n",
    "\n",
    "    plt.figure(figsize=(8,8))\n",
    "    plt.title('cluster (K=2)')\n",
    "\n",
    "    # ++++++++++++++++++++++++++++++++++++++++++++++++++\n",
    "    # complete the blanks\n",
    "    #\n",
    "    number_cluster = 2\n",
    "    label_ = list()\n",
    "    \n",
    "    cmap = colors.ListedColormap(['black', 'gray'])\n",
    "    plt.scatter(feature[:,0], feature[:,1], c = label_feature_02, cmap=cmap)\n",
    "    \n",
    "    plt.colorbar(ticks=[0,1], label= 'cluster')\n",
    "    plt.show()\n",
    "    #\n",
    "    # ++++++++++++++++++++++++++++++++++++++++++++++++++"
   ]
  },
  {
   "cell_type": "code",
   "execution_count": null,
   "metadata": {},
   "outputs": [],
   "source": [
    "def function_result_14():\n",
    "\n",
    "    plt.figure(figsize=(8,8))\n",
    "    plt.title('cluster (K=4)')\n",
    "\n",
    "    # ++++++++++++++++++++++++++++++++++++++++++++++++++\n",
    "    # complete the blanks\n",
    "    #\n",
    "    number_cluster = 4\n",
    "    label_ = list()\n",
    "    \n",
    "    cmap = colors.ListedColormap(['black', 'gray', 'red', 'orange'])\n",
    "    plt.scatter(feature[:,0], feature[:,1], c = label_feature_04, cmap=cmap)\n",
    "    \n",
    "    plt.colorbar(ticks=[0,1,2,3], label= 'cluster')\n",
    "    plt.show()\n",
    "    #\n",
    "    # ++++++++++++++++++++++++++++++++++++++++++++++++++"
   ]
  },
  {
   "cell_type": "code",
   "execution_count": null,
   "metadata": {},
   "outputs": [],
   "source": [
    "def function_result_15():\n",
    "\n",
    "    plt.figure(figsize=(8,8))\n",
    "    plt.title('cluster (K=8)')\n",
    "\n",
    "    # ++++++++++++++++++++++++++++++++++++++++++++++++++\n",
    "    # complete the blanks\n",
    "    #\n",
    "    number_cluster = 8\n",
    "    label_ = list()\n",
    "    \n",
    "    cmap = colors.ListedColormap(['black', 'gray', 'red', 'orange', 'yellow', 'green', 'blue', 'indigo'])\n",
    "    plt.scatter(feature[:,0], feature[:,1], c = label_feature_08, cmap=cmap)\n",
    "    \n",
    "    plt.colorbar(ticks=[0,1,2,3,4,5,6,7], label= 'cluster')\n",
    "    plt.show()\n",
    "    #\n",
    "    # ++++++++++++++++++++++++++++++++++++++++++++++++++"
   ]
  },
  {
   "cell_type": "code",
   "execution_count": null,
   "metadata": {},
   "outputs": [],
   "source": [
    "def function_result_16():\n",
    "\n",
    "    plt.figure(figsize=(8,8))\n",
    "    plt.title('cluster (K=16)')\n",
    "\n",
    "    # ++++++++++++++++++++++++++++++++++++++++++++++++++\n",
    "    # complete the blanks\n",
    "    #\n",
    "    number_cluster = 16\n",
    "    label_ = list()\n",
    "    \n",
    "    cmap = colors.ListedColormap(['black', 'gray', 'red', 'orange', 'yellow', 'green', 'blue', 'indigo', 'purple', 'pink', 'brown', 'olive', 'cyan', 'khaki', 'darkgreen', 'gold'])\n",
    "    plt.scatter(feature[:,0], feature[:,1], c = label_feature_16, cmap=cmap)\n",
    "    \n",
    "    plt.colorbar(ticks=[0,1,2,3,4,5,6,7,8,9,10,11,12,13,14,15], label= 'cluster')\n",
    "    plt.show()\n",
    "    #\n",
    "    # ++++++++++++++++++++++++++++++++++++++++++++++++++"
   ]
  },
  {
   "cell_type": "markdown",
   "metadata": {},
   "source": [
    "---"
   ]
  },
  {
   "cell_type": "markdown",
   "metadata": {},
   "source": [
    "---"
   ]
  },
  {
   "cell_type": "markdown",
   "metadata": {},
   "source": [
    "## results"
   ]
  },
  {
   "cell_type": "markdown",
   "metadata": {},
   "source": [
    "---"
   ]
  },
  {
   "cell_type": "markdown",
   "metadata": {},
   "source": [
    "---"
   ]
  },
  {
   "cell_type": "code",
   "execution_count": null,
   "metadata": {},
   "outputs": [],
   "source": [
    "number_result = 16\n",
    "\n",
    "for i in range(number_result):\n",
    "    title = '## [RESULT {:02d}]'.format(i+1)\n",
    "    name_function = 'function_result_{:02d}()'.format(i+1)\n",
    "\n",
    "    print('**************************************************')\n",
    "    print(title)\n",
    "    print('**************************************************')\n",
    "    eval(name_function)"
   ]
  }
 ],
 "metadata": {
  "interpreter": {
   "hash": "40d3a090f54c6569ab1632332b64b2c03c39dcf918b08424e98f38b5ae0af88f"
  },
  "kernelspec": {
   "display_name": "Python 3 (ipykernel)",
   "language": "python",
   "name": "python3"
  },
  "language_info": {
   "codemirror_mode": {
    "name": "ipython",
    "version": 3
   },
   "file_extension": ".py",
   "mimetype": "text/x-python",
   "name": "python",
   "nbconvert_exporter": "python",
   "pygments_lexer": "ipython3",
   "version": "3.9.7"
  },
  "metadata": {
   "interpreter": {
    "hash": "aee8b7b246df8f9039afb4144a1f6fd8d2ca17a180786b69acc140d282b71a49"
   }
  }
 },
 "nbformat": 4,
 "nbformat_minor": 2
}
